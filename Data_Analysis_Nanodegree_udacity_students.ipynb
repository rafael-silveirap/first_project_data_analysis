{
  "cells": [
    {
      "cell_type": "markdown",
      "metadata": {
        "id": "JP1nMpd3I004"
      },
      "source": [
        "#Análise de dados dos alunos do projeto nanodegree da udacity, para isso utilizaremos os arquivos: enrollments.csv, daily_engagement.csv e project_submissions.csv\n"
      ]
    },
    {
      "cell_type": "code",
      "execution_count": null,
      "metadata": {
        "colab": {
          "base_uri": "https://localhost:8080/"
        },
        "id": "0JNBG_kRz6oV",
        "outputId": "06b49def-7662-40b8-d018-7d13a374a67a"
      },
      "outputs": [
        {
          "output_type": "stream",
          "name": "stdout",
          "text": [
            "Requirement already satisfied: unicodecsv in /usr/local/lib/python3.7/dist-packages (0.14.1)\n"
          ]
        }
      ],
      "source": [
        "!pip install unicodecsv"
      ]
    },
    {
      "cell_type": "code",
      "execution_count": null,
      "metadata": {
        "id": "xrS3NJjJz4IB"
      },
      "outputs": [],
      "source": [
        "import unicodecsv\n",
        "\n",
        "def read_csv(filename):  #criando uma lista com cada linha de cada csv\n",
        "    with open(filename, 'rb') as f:\n",
        "        reader = unicodecsv.DictReader(f)\n",
        "        return list(reader)\n",
        "\n",
        "enrollments = read_csv('enrollments.csv')\n",
        "daily_engagement = read_csv('daily_engagement.csv')\n",
        "project_submissions = read_csv('project_submissions.csv')"
      ]
    },
    {
      "cell_type": "code",
      "execution_count": null,
      "metadata": {
        "colab": {
          "base_uri": "https://localhost:8080/"
        },
        "id": "Lb5k1UXl0U45",
        "outputId": "8a041c52-cfbf-471c-d903-558284ce8095"
      },
      "outputs": [
        {
          "output_type": "execute_result",
          "data": {
            "text/plain": [
              "OrderedDict([('account_key', '448'),\n",
              "             ('status', 'canceled'),\n",
              "             ('join_date', '2014-11-10'),\n",
              "             ('cancel_date', '2015-01-14'),\n",
              "             ('days_to_cancel', '65'),\n",
              "             ('is_udacity', 'True'),\n",
              "             ('is_canceled', 'True')])"
            ]
          },
          "metadata": {},
          "execution_count": 101
        }
      ],
      "source": [
        "enrollments[0]"
      ]
    },
    {
      "cell_type": "code",
      "execution_count": null,
      "metadata": {
        "colab": {
          "base_uri": "https://localhost:8080/"
        },
        "id": "rvol-Ddk3mDt",
        "outputId": "d1451fb4-f57f-44f3-bfe8-8acdbe56b57f"
      },
      "outputs": [
        {
          "output_type": "execute_result",
          "data": {
            "text/plain": [
              "OrderedDict([('utc_date', '2015-01-09'),\n",
              "             ('num_courses_visited', '1.0'),\n",
              "             ('total_minutes_visited', '11.6793745'),\n",
              "             ('lessons_completed', '0.0'),\n",
              "             ('projects_completed', '0.0'),\n",
              "             ('account_key', '0')])"
            ]
          },
          "metadata": {},
          "execution_count": 102
        }
      ],
      "source": [
        "daily_engagement[0]\n",
        "for d in daily_engagement:\n",
        "  d['account_key'] = d['acct']   #alterando a chave 'acct' de daily_engagement.csv para 'account_key' assim padronizando a chave de identificação\n",
        "  del d['acct']\n",
        "daily_engagement[0]"
      ]
    },
    {
      "cell_type": "code",
      "execution_count": null,
      "metadata": {
        "colab": {
          "base_uri": "https://localhost:8080/"
        },
        "id": "D9jFwuK13nOP",
        "outputId": "0dac1521-081d-4a9d-c8c0-864fd4faaf5b"
      },
      "outputs": [
        {
          "output_type": "execute_result",
          "data": {
            "text/plain": [
              "OrderedDict([('creation_date', '2015-01-14'),\n",
              "             ('completion_date', '2015-01-16'),\n",
              "             ('assigned_rating', 'UNGRADED'),\n",
              "             ('account_key', '256'),\n",
              "             ('lesson_key', '3176718735'),\n",
              "             ('processing_state', 'EVALUATED')])"
            ]
          },
          "metadata": {},
          "execution_count": 103
        }
      ],
      "source": [
        "project_submissions[0]"
      ]
    },
    {
      "cell_type": "code",
      "execution_count": null,
      "metadata": {
        "colab": {
          "base_uri": "https://localhost:8080/"
        },
        "id": "1u16IaC80WtT",
        "outputId": "de714bf1-8e61-4338-e2ba-85bb0d63a6b2"
      },
      "outputs": [
        {
          "output_type": "stream",
          "name": "stdout",
          "text": [
            "1302\n",
            "1237\n",
            "743\n"
          ]
        }
      ],
      "source": [
        "def unique(lista):\n",
        "  unique_students = set()\n",
        "  for k in lista:\n",
        "    unique_students.add(k['account_key'])\n",
        "  n = len(unique_students)\n",
        "  return n\n",
        "\n",
        "def unique_students_daily(lista):\n",
        "  unique_students = set()\n",
        "  for u in lista:\n",
        "    unique_students.add(u['account_key'])\n",
        "  return unique_students\n",
        "\n",
        "unique_enrollments = unique(enrollments)\n",
        "print(unique_enrollments)\n",
        "unique_daily = unique(daily_engagement)\n",
        "print(unique_daily)\n",
        "unique_projects = unique(project_submissions)\n",
        "print(unique_projects)\n",
        "\n",
        "#Neste código crio uma função que retorna o número de alunos únicos em cada csv\n",
        "#E uma que retorna um conjunto com o 'account_key' desses alunos únicos\n",
        "\n",
        "#OBS: É POSSIVEL VER QUE A TABELA ENROLLMENTS TEM MAIS ALUNOS QUE A DE ENGAGEMENT OQ NAO DEVIA OCORRER\n",
        "#MAS OCORRE POIS EXISTEM ALUNOS QUE CANCELARAM A MATRÍCULA ANTES DE COMPLETAR 24 HORAS"
      ]
    },
    {
      "cell_type": "code",
      "execution_count": null,
      "metadata": {
        "colab": {
          "base_uri": "https://localhost:8080/",
          "height": 35
        },
        "id": "DrZeq_6m0pUJ",
        "outputId": "59a9bd8a-f7f2-488b-bc6b-a871a97282ee"
      },
      "outputs": [
        {
          "output_type": "execute_result",
          "data": {
            "text/plain": [
              "'0'"
            ],
            "application/vnd.google.colaboratory.intrinsic+json": {
              "type": "string"
            }
          },
          "metadata": {},
          "execution_count": 105
        }
      ],
      "source": [
        "daily_engagement[0]['account_key']"
      ]
    },
    {
      "cell_type": "code",
      "execution_count": null,
      "metadata": {
        "colab": {
          "base_uri": "https://localhost:8080/"
        },
        "id": "G9_iy6_u6mD-",
        "outputId": "d95c6893-8efe-4226-aaee-ec2ab65ee380"
      },
      "outputs": [
        {
          "output_type": "stream",
          "name": "stdout",
          "text": [
            "OrderedDict([('account_key', '1304'), ('status', 'canceled'), ('join_date', '2015-01-10'), ('cancel_date', '2015-03-10'), ('days_to_cancel', '59'), ('is_udacity', 'True'), ('is_canceled', 'True')])\n",
            "OrderedDict([('account_key', '1304'), ('status', 'canceled'), ('join_date', '2015-03-10'), ('cancel_date', '2015-06-17'), ('days_to_cancel', '99'), ('is_udacity', 'True'), ('is_canceled', 'True')])\n",
            "OrderedDict([('account_key', '1101'), ('status', 'current'), ('join_date', '2015-02-25'), ('cancel_date', ''), ('days_to_cancel', ''), ('is_udacity', 'True'), ('is_canceled', 'False')])\n"
          ]
        }
      ],
      "source": [
        "students_daily = unique_students_daily(daily_engagement)\n",
        "for enrollment in enrollments:\n",
        "  student = enrollment['account_key']\n",
        "  if student not in students_daily and enrollment['days_to_cancel'] != '0':\n",
        "    print(enrollment)\n",
        "\n",
        "#verificando se existem mais casos inesperados que nao cancelaram a matricula em menos de 24 horas "
      ]
    },
    {
      "cell_type": "code",
      "execution_count": null,
      "metadata": {
        "colab": {
          "base_uri": "https://localhost:8080/"
        },
        "id": "Dctatp3PBxB6",
        "outputId": "04cdf663-ba09-47ad-b6a6-7f5cbf7cb7d7"
      },
      "outputs": [
        {
          "output_type": "execute_result",
          "data": {
            "text/plain": [
              "6"
            ]
          },
          "metadata": {},
          "execution_count": 107
        }
      ],
      "source": [
        "udacity_test_acoounts = set()\n",
        "for enrollment in enrollments:\n",
        "  if enrollment['is_udacity'] == 'True':\n",
        "    udacity_test_acoounts.add(enrollment['account_key'])\n",
        "len(udacity_test_acoounts)\n",
        "\n",
        "#NO CASO ACIMA TODAS CONTAS SÃO CONTAS TESTES DA UDACITY, ENTAO PODEMOS EXCLUI-LAS PARA ANALISAR MELHOR OS DADOS\n"
      ]
    },
    {
      "cell_type": "code",
      "execution_count": null,
      "metadata": {
        "colab": {
          "base_uri": "https://localhost:8080/"
        },
        "id": "R1COd8e9CHoN",
        "outputId": "2fe8ca84-fccb-40fc-eb43-8054e47930a3"
      },
      "outputs": [
        {
          "output_type": "stream",
          "name": "stdout",
          "text": [
            "{'1069', '1101', '312', '1304', '448', '818'}\n"
          ]
        }
      ],
      "source": [
        "print(udacity_test_acoounts)"
      ]
    },
    {
      "cell_type": "code",
      "execution_count": null,
      "metadata": {
        "id": "bGZzP6VQ-Nj8"
      },
      "outputs": [],
      "source": [
        "def remove_udacity_accounts(lista):\n",
        "  non_udacity = []\n",
        "  for k in lista:\n",
        "    if k['account_key'] not in udacity_test_acoounts:\n",
        "      non_udacity.append(k)\n",
        "  return non_udacity"
      ]
    },
    {
      "cell_type": "code",
      "execution_count": null,
      "metadata": {
        "colab": {
          "base_uri": "https://localhost:8080/"
        },
        "id": "Z61nCaWDC4oI",
        "outputId": "b3ebd408-a6c6-49b6-9826-5e39e0970507"
      },
      "outputs": [
        {
          "output_type": "stream",
          "name": "stdout",
          "text": [
            "1622 135656 3634\n"
          ]
        }
      ],
      "source": [
        "non_udacity_enrollments = remove_udacity_accounts(enrollments)\n",
        "non_udacity_engagement = remove_udacity_accounts(daily_engagement)\n",
        "non_udacity_submissions = remove_udacity_accounts(project_submissions)\n",
        "\n",
        "print(len(non_udacity_enrollments), len(non_udacity_engagement), len(non_udacity_submissions))\n",
        "#novas listas agora sem as contas de teste da udacity"
      ]
    },
    {
      "cell_type": "markdown",
      "metadata": {
        "id": "giaQdFNGgLof"
      },
      "source": [
        "#ALTERANDO OS TIPOS DE DADOS PARA TRABALHARMOS MELHOR COM ELES\n"
      ]
    },
    {
      "cell_type": "code",
      "execution_count": null,
      "metadata": {
        "id": "if_p7c7kgRnZ"
      },
      "outputs": [],
      "source": [
        "from datetime import datetime as dt"
      ]
    },
    {
      "cell_type": "code",
      "execution_count": null,
      "metadata": {
        "colab": {
          "base_uri": "https://localhost:8080/"
        },
        "id": "gI-CuI2lhXG0",
        "outputId": "d6ff1d13-7d27-440a-c9e5-2e8f4f683727"
      },
      "outputs": [
        {
          "output_type": "execute_result",
          "data": {
            "text/plain": [
              "OrderedDict([('account_key', '448'),\n",
              "             ('status', 'canceled'),\n",
              "             ('join_date', datetime.datetime(2014, 11, 10, 0, 0)),\n",
              "             ('cancel_date', datetime.datetime(2015, 1, 14, 0, 0)),\n",
              "             ('days_to_cancel', 65),\n",
              "             ('is_udacity', True),\n",
              "             ('is_canceled', True)])"
            ]
          },
          "metadata": {},
          "execution_count": 112
        }
      ],
      "source": [
        "def parse_date(date):\n",
        "  if date == '':\n",
        "    return None\n",
        "  else:\n",
        "    return dt.strptime(date, '%Y-%m-%d')\n",
        "\n",
        "def parse_maybe_int(i):\n",
        "  if i == '':\n",
        "    return None\n",
        "  else:\n",
        "    return int(i)\n",
        "\n",
        "for enrollment in enrollments:\n",
        "  enrollment['cancel_date'] = parse_date(enrollment['cancel_date'])\n",
        "  enrollment['days_to_cancel'] = parse_maybe_int(enrollment['days_to_cancel'])\n",
        "  enrollment['is_canceled'] = enrollment['is_canceled'] == 'True' \n",
        "  enrollment['is_udacity'] = enrollment['is_udacity'] == 'True'\n",
        "  enrollment['join_date'] = parse_date(enrollment['join_date'])\n",
        "\n",
        "enrollments[0]"
      ]
    },
    {
      "cell_type": "code",
      "execution_count": null,
      "metadata": {
        "colab": {
          "base_uri": "https://localhost:8080/"
        },
        "id": "cOimOG2VjI2A",
        "outputId": "e1fbf2d1-fd29-425a-f282-b6da76a90608"
      },
      "outputs": [
        {
          "output_type": "execute_result",
          "data": {
            "text/plain": [
              "OrderedDict([('utc_date', datetime.datetime(2015, 1, 9, 0, 0)),\n",
              "             ('num_courses_visited', 1),\n",
              "             ('total_minutes_visited', 11.6793745),\n",
              "             ('lessons_completed', 0),\n",
              "             ('projects_completed', 0),\n",
              "             ('account_key', '0')])"
            ]
          },
          "metadata": {},
          "execution_count": 113
        }
      ],
      "source": [
        "for engagement_record in daily_engagement:\n",
        "  engagement_record['lessons_completed'] = int(float(engagement_record['lessons_completed']))\n",
        "  engagement_record['num_courses_visited'] = int(float(engagement_record['num_courses_visited']))\n",
        "  engagement_record['projects_completed'] = int(float(engagement_record['projects_completed']))\n",
        "  engagement_record['total_minutes_visited'] = float(engagement_record['total_minutes_visited'])\n",
        "  engagement_record['utc_date'] = parse_date(engagement_record['utc_date'])\n",
        "\n",
        "daily_engagement[0]"
      ]
    },
    {
      "cell_type": "code",
      "execution_count": null,
      "metadata": {
        "colab": {
          "base_uri": "https://localhost:8080/"
        },
        "id": "hBEFAEBYlDdv",
        "outputId": "7b062c11-01a5-4221-ab4b-6c3d1427f381"
      },
      "outputs": [
        {
          "output_type": "execute_result",
          "data": {
            "text/plain": [
              "OrderedDict([('creation_date', datetime.datetime(2015, 1, 14, 0, 0)),\n",
              "             ('completion_date', datetime.datetime(2015, 1, 16, 0, 0)),\n",
              "             ('assigned_rating', 'UNGRADED'),\n",
              "             ('account_key', '256'),\n",
              "             ('lesson_key', '3176718735'),\n",
              "             ('processing_state', 'EVALUATED')])"
            ]
          },
          "metadata": {},
          "execution_count": 114
        }
      ],
      "source": [
        "for submission in project_submissions:\n",
        "  submission['creation_date'] = parse_date(submission['creation_date'])\n",
        "  submission['completion_date'] = parse_date(submission['completion_date'])\n",
        "\n",
        "project_submissions[0]"
      ]
    },
    {
      "cell_type": "markdown",
      "metadata": {
        "id": "mG0oIB3mIA53"
      },
      "source": [
        "Criando um dicionário que tem como chave a 'account_key' e como elementos a data de matrícula desses alunos, e a restrição é que esses alunos não serão contas teste da udacity, estão matriculados ('days_to_cancel' = None) ou ficaram matriculados por mais de 7 dias\n"
      ]
    },
    {
      "cell_type": "code",
      "execution_count": null,
      "metadata": {
        "id": "ROhjy55goT7p"
      },
      "outputs": [],
      "source": [
        "paid_students = {}\n",
        "for enrollment in non_udacity_enrollments:\n",
        "  if enrollment['days_to_cancel'] == None or enrollment['days_to_cancel'] > 7:\n",
        "    if enrollment['account_key'] not in paid_students or enrollment['join_date'] > paid_students[enrollment['account_key']]:  \n",
        "      paid_students.update( {enrollment['account_key'] : enrollment['join_date']})"
      ]
    },
    {
      "cell_type": "code",
      "execution_count": null,
      "metadata": {
        "colab": {
          "base_uri": "https://localhost:8080/"
        },
        "id": "SgEhNOa5tQwf",
        "outputId": "f9bafa93-fdfa-4eda-dcae-86e95a4b89ce"
      },
      "outputs": [
        {
          "output_type": "stream",
          "name": "stdout",
          "text": [
            "995\n"
          ]
        }
      ],
      "source": [
        "print(len(paid_students)) #número de alunos que atendem esses requisitos"
      ]
    },
    {
      "cell_type": "markdown",
      "metadata": {
        "id": "0vH1oGueOeED"
      },
      "source": [
        "# O objetivo agora é saber quantos alunos são alunos pagos e estão na primeira semana"
      ]
    },
    {
      "cell_type": "markdown",
      "metadata": {
        "id": "m4dE5EwxOwoG"
      },
      "source": [
        "Para isso defini uma função que recebe a data de matricula e a 'utc_date' e retorna True se estiver na primeira semana\n"
      ]
    },
    {
      "cell_type": "code",
      "execution_count": null,
      "metadata": {
        "id": "qHIv2_B6JEHI"
      },
      "outputs": [],
      "source": [
        "def within_one_week(join_date, engagement_date):\n",
        "  time_diff = engagement_date - join_date\n",
        "  return time_diff.days < 7 and time_diff.days >= 0"
      ]
    },
    {
      "cell_type": "markdown",
      "metadata": {
        "id": "gST32Bw-O8JO"
      },
      "source": [
        "E também defini uma que remove os alunos que cancelaram durante o teste gratuito"
      ]
    },
    {
      "cell_type": "code",
      "execution_count": null,
      "metadata": {
        "id": "PkjmO5XCK_st"
      },
      "outputs": [],
      "source": [
        "def remove_free_trial_cancels(data):\n",
        "  new_data = []\n",
        "  for data_point in data:\n",
        "    if data_point['account_key'] in paid_students:\n",
        "      new_data.append(data_point)\n",
        "  return new_data"
      ]
    },
    {
      "cell_type": "code",
      "execution_count": null,
      "metadata": {
        "colab": {
          "base_uri": "https://localhost:8080/"
        },
        "id": "ygzTIQpLLiql",
        "outputId": "35d357ef-e5b4-4169-8116-01901c08f12e"
      },
      "outputs": [
        {
          "output_type": "stream",
          "name": "stdout",
          "text": [
            "1293\n",
            "134549\n",
            "3618\n"
          ]
        }
      ],
      "source": [
        "paid_enrollments =  remove_free_trial_cancels(non_udacity_enrollments)\n",
        "paid_engagements =  remove_free_trial_cancels(non_udacity_engagement)\n",
        "paid_submissions = remove_free_trial_cancels(non_udacity_submissions)\n",
        "\n",
        "print(len(paid_enrollments))\n",
        "print(len(paid_engagements))\n",
        "print(len(paid_submissions))"
      ]
    },
    {
      "cell_type": "markdown",
      "metadata": {
        "id": "Qy7UiZW8PGIt"
      },
      "source": [
        "E agora com os alunos pagos da tabela de engajamento pude verificar se estão na primeira semana e assim adiciona-los a uma lista para saber quantos são.\n"
      ]
    },
    {
      "cell_type": "code",
      "source": [
        "for engagement_record in paid_engagements:\n",
        "  if engagement_record['num_courses_visited'] > 0:\n",
        "    engagement_record['has_visited'] = 1\n",
        "  else:\n",
        "    engagement_record['has_visited'] = 0"
      ],
      "metadata": {
        "id": "eEwu7XD2CkpD"
      },
      "execution_count": null,
      "outputs": []
    },
    {
      "cell_type": "code",
      "execution_count": null,
      "metadata": {
        "colab": {
          "base_uri": "https://localhost:8080/"
        },
        "id": "cYM-ToewMKbN",
        "outputId": "3bb32cf0-a14b-481d-9242-54548ff0ee65"
      },
      "outputs": [
        {
          "output_type": "execute_result",
          "data": {
            "text/plain": [
              "OrderedDict([('utc_date', datetime.datetime(2015, 1, 9, 0, 0)),\n",
              "             ('num_courses_visited', 1),\n",
              "             ('total_minutes_visited', 11.6793745),\n",
              "             ('lessons_completed', 0),\n",
              "             ('projects_completed', 0),\n",
              "             ('account_key', '0'),\n",
              "             ('has_visited', 1)])"
            ]
          },
          "metadata": {},
          "execution_count": 121
        }
      ],
      "source": [
        "paid_engagement_first_week = []\n",
        "\n",
        "for engagement_record in paid_engagements:\n",
        "  account_key = engagement_record['account_key']\n",
        "  join_date = paid_students[account_key]\n",
        "  engagement_record_date = engagement_record['utc_date']\n",
        "\n",
        "  if within_one_week(join_date, engagement_record_date):\n",
        "    paid_engagement_first_week.append(engagement_record)\n",
        "\n",
        "len(paid_engagement_first_week)\n",
        "paid_engagement_first_week[0]"
      ]
    },
    {
      "cell_type": "markdown",
      "metadata": {
        "id": "pZDwTMocuh7-"
      },
      "source": [
        "Agora estamos interessados em saber quanto tempo um aluno passa em média na sala de aula na primeira semana"
      ]
    },
    {
      "cell_type": "markdown",
      "metadata": {
        "id": "VHO0axocus_1"
      },
      "source": [
        "1° Vamos separar os alunos em 3 grupos  onde cada grupo contem todos os registros de envolvimento de um aluno específico. <br>\n",
        "2° Vamos representar esses grupo por um dicionário onde as chaves serão as 'account_keys' e os valores serão listas do registro de envolvimento de cada aluno. <br>\n",
        "Em seguida vamos calcular o número total de minutos gastos de cada aluno somando os registros de envolvimento desse aluno. <br>\n",
        "E finalmente calcularemos a média."
      ]
    },
    {
      "cell_type": "code",
      "execution_count": null,
      "metadata": {
        "id": "S9jNB-0HNX6V"
      },
      "outputs": [],
      "source": [
        "from collections import defaultdict\n",
        "\n",
        "def group_data(data, key_name):\n",
        "  grouped_data = defaultdict(list)\n",
        "  for data_point in data:\n",
        "    key = data_point[key_name]\n",
        "    grouped_data[key].append(data_point)\n",
        "  return grouped_data\n",
        "\n",
        "engagement_by_account = group_data(paid_engagement_first_week, 'account_key')\n"
      ]
    },
    {
      "cell_type": "code",
      "execution_count": null,
      "metadata": {
        "id": "jpuTO1HUvy_7"
      },
      "outputs": [],
      "source": [
        "def sum_grouped_items(grouped_data, field_name):\n",
        "\n",
        "  summed_data = {}\n",
        "\n",
        "  for key, data_points in grouped_data.items():\n",
        "    total = 0\n",
        "    for data_point in data_points:\n",
        "      total += data_point[field_name]\n",
        "    summed_data[key] = total\n",
        "  return summed_data\n",
        "\n",
        "total_minutes_by_account = sum_grouped_items(engagement_by_account, 'total_minutes_visited')"
      ]
    },
    {
      "cell_type": "code",
      "source": [
        "def results(values):\n",
        "\n",
        "  total = list(values)\n",
        "\n",
        "  %matplotlib inline\n",
        "  import matplotlib.pyplot as plt\n",
        "  import numpy as np\n",
        "\n",
        "  print(f\"Média: {np.mean(total)}\")\n",
        "  print(f\"Desvio Padrão: {np.std(total)}\")\n",
        "  print(f\"Máximo: {np.max(total)}\")\n",
        "  print(f\"Mínimo: {np.min(total)}\")\n",
        "  plt.hist(total)\n",
        "\n",
        "results(total_minutes_by_account.values())"
      ],
      "metadata": {
        "colab": {
          "base_uri": "https://localhost:8080/",
          "height": 335
        },
        "id": "9neHXSQ7x2Br",
        "outputId": "1c414358-5ca4-4816-cf63-6fbcb5e012e6"
      },
      "execution_count": null,
      "outputs": [
        {
          "output_type": "stream",
          "name": "stdout",
          "text": [
            "Média: 306.70832675342825\n",
            "Desvio Padrão: 412.99693340852957\n",
            "Máximo: 3564.7332644989997\n",
            "Mínimo: 0.0\n"
          ]
        },
        {
          "output_type": "display_data",
          "data": {
            "text/plain": [
              "<Figure size 432x288 with 1 Axes>"
            ],
            "image/png": "[encoded data removed]"
          },
          "metadata": {
            "needs_background": "light"
          }
        }
      ]
    },
    {
      "cell_type": "markdown",
      "source": [
        "Aqui é possível ver um problema, estamos analisando para os alunos da primeira semana, mas o número máximo de minutos é mais de uma semana, agora vamos descobrir o porque."
      ],
      "metadata": {
        "id": "uycSwgRB1iZ3"
      }
    },
    {
      "cell_type": "code",
      "source": [
        "student_max = None\n",
        "max_minutes = 0\n",
        "\n",
        "for student, total_minutes in total_minutes_by_account.items():\n",
        "  if total_minutes > max_minutes:\n",
        "    max_minutes = total_minutes\n",
        "    student_max = student\n",
        "print(student_max, max_minutes)"
      ],
      "metadata": {
        "colab": {
          "base_uri": "https://localhost:8080/"
        },
        "id": "KXhRoueDzIml",
        "outputId": "0590ec8a-ea32-4bdb-948c-9cd8ddafa71a"
      },
      "execution_count": null,
      "outputs": [
        {
          "output_type": "stream",
          "name": "stdout",
          "text": [
            "163 3564.7332644989997\n"
          ]
        }
      ]
    },
    {
      "cell_type": "code",
      "source": [
        "for engagement_record in paid_engagement_first_week:\n",
        "  if engagement_record['account_key'] == student_max:\n",
        "    print(engagement_record)"
      ],
      "metadata": {
        "colab": {
          "base_uri": "https://localhost:8080/"
        },
        "id": "B1amKENB3ONW",
        "outputId": "f70d2cb9-ac28-42a2-b9a0-e6dd1f68c01c"
      },
      "execution_count": null,
      "outputs": [
        {
          "output_type": "stream",
          "name": "stdout",
          "text": [
            "OrderedDict([('utc_date', datetime.datetime(2015, 7, 9, 0, 0)), ('num_courses_visited', 4), ('total_minutes_visited', 850.519339666), ('lessons_completed', 4), ('projects_completed', 0), ('account_key', '163'), ('has_visited', 1)])\n",
            "OrderedDict([('utc_date', datetime.datetime(2015, 7, 10, 0, 0)), ('num_courses_visited', 6), ('total_minutes_visited', 872.633923334), ('lessons_completed', 6), ('projects_completed', 0), ('account_key', '163'), ('has_visited', 1)])\n",
            "OrderedDict([('utc_date', datetime.datetime(2015, 7, 11, 0, 0)), ('num_courses_visited', 2), ('total_minutes_visited', 777.018903666), ('lessons_completed', 6), ('projects_completed', 0), ('account_key', '163'), ('has_visited', 1)])\n",
            "OrderedDict([('utc_date', datetime.datetime(2015, 7, 12, 0, 0)), ('num_courses_visited', 1), ('total_minutes_visited', 294.568774), ('lessons_completed', 2), ('projects_completed', 0), ('account_key', '163'), ('has_visited', 1)])\n",
            "OrderedDict([('utc_date', datetime.datetime(2015, 7, 13, 0, 0)), ('num_courses_visited', 3), ('total_minutes_visited', 471.2139785), ('lessons_completed', 1), ('projects_completed', 0), ('account_key', '163'), ('has_visited', 1)])\n",
            "OrderedDict([('utc_date', datetime.datetime(2015, 7, 14, 0, 0)), ('num_courses_visited', 2), ('total_minutes_visited', 298.778345333), ('lessons_completed', 1), ('projects_completed', 0), ('account_key', '163'), ('has_visited', 1)])\n",
            "OrderedDict([('utc_date', datetime.datetime(2015, 7, 15, 0, 0)), ('num_courses_visited', 0), ('total_minutes_visited', 0.0), ('lessons_completed', 0), ('projects_completed', 0), ('account_key', '163'), ('has_visited', 0)])\n"
          ]
        }
      ]
    },
    {
      "cell_type": "markdown",
      "source": [
        "Aqui ja podemos ver um bug, o primeiro registro é de janeiro e o último de abril, mas devia ser apenas os da primeira semana.<br>\n",
        "E qual é o erro então? <br>\n",
        "O erro está na função que 'whithin one week' caso o aluno se inscreva e cancele a matrícula, mas logo depois faça a inscrição denovo, os 7 dias estarão contando desde a primeira matrícula <br>\n",
        "para corrigir isto basta colocar uma outra condição na função, onde time_diff seja maior ou igual a 0. <br>\n",
        "Obs: **Com essa correção na função, alguns comentários acima podem não fazer sentido mais para o momento atual do código.**\n",
        "\n"
      ],
      "metadata": {
        "id": "25RJ8Kxm4bQX"
      }
    },
    {
      "cell_type": "markdown",
      "source": [
        "#Analisando o número de lições completadas na primeira semana"
      ],
      "metadata": {
        "id": "3FrlkCIo6cWA"
      }
    },
    {
      "cell_type": "code",
      "source": [
        "lessons_completed_by_account = sum_grouped_items(engagement_by_account, 'lessons_completed')\n",
        "results(lessons_completed_by_account.values())"
      ],
      "metadata": {
        "colab": {
          "base_uri": "https://localhost:8080/",
          "height": 335
        },
        "id": "Dxb0HQ-q8AdV",
        "outputId": "015ef8d7-c61f-443c-c8b7-d941e46915e2"
      },
      "execution_count": null,
      "outputs": [
        {
          "output_type": "stream",
          "name": "stdout",
          "text": [
            "Média: 1.636180904522613\n",
            "Desvio Padrão: 3.002561299829423\n",
            "Máximo: 36\n",
            "Mínimo: 0\n"
          ]
        },
        {
          "output_type": "display_data",
          "data": {
            "text/plain": [
              "<Figure size 432x288 with 1 Axes>"
            ],
            "image/png": "[encoded data removed]"
          },
          "metadata": {
            "needs_background": "light"
          }
        }
      ]
    },
    {
      "cell_type": "markdown",
      "source": [
        "Aqui é analisado os dias em que o aluno visitou algum curso, e isso foi feito adicionando uma nova chave no dicionário 'paid_engagements' chamada 'has_visited' que vale 1 se o aluno não visitou nenhum curso e 0 se o aluno visitou algum curso."
      ],
      "metadata": {
        "id": "J1wG14ekDaEP"
      }
    },
    {
      "cell_type": "code",
      "source": [
        "days_visited = sum_grouped_items(engagement_by_account, 'has_visited')\n",
        "results(days_visited.values())"
      ],
      "metadata": {
        "colab": {
          "base_uri": "https://localhost:8080/",
          "height": 335
        },
        "id": "a2OC1jVGDMks",
        "outputId": "1526682c-13c8-46ee-9298-590d7640ba40"
      },
      "execution_count": null,
      "outputs": [
        {
          "output_type": "stream",
          "name": "stdout",
          "text": [
            "Média: 2.8673366834170855\n",
            "Desvio Padrão: 2.2551980029196814\n",
            "Máximo: 7\n",
            "Mínimo: 0\n"
          ]
        },
        {
          "output_type": "display_data",
          "data": {
            "text/plain": [
              "<Figure size 432x288 with 1 Axes>"
            ],
            "image/png": "[encoded data removed]"
          },
          "metadata": {
            "needs_background": "light"
          }
        }
      ]
    },
    {
      "cell_type": "markdown",
      "source": [
        "#Analisando quais alunos passaram no primeiro projeto"
      ],
      "metadata": {
        "id": "RbR_ZiGkEjqs"
      }
    },
    {
      "cell_type": "code",
      "source": [
        "subway_project_lesson_keys = ['746169184', '3176718735']\n",
        "\n",
        "pass_subway_project = set()\n",
        "\n",
        "for submission in paid_submissions:\n",
        "  project = submission['lesson_key']\n",
        "  rating = submission['assigned_rating']\n",
        "  if project in subway_project_lesson_keys and (rating == 'PASSED' or rating == 'DISTINCTION'):\n",
        "    pass_subway_project.add(submission['account_key'])\n",
        "\n",
        "len(pass_subway_project)"
      ],
      "metadata": {
        "colab": {
          "base_uri": "https://localhost:8080/"
        },
        "id": "czeXxXTXDXQk",
        "outputId": "fe85b777-5f55-4b01-e97b-82f9cdcb30eb"
      },
      "execution_count": null,
      "outputs": [
        {
          "output_type": "execute_result",
          "data": {
            "text/plain": [
              "647"
            ]
          },
          "metadata": {},
          "execution_count": 129
        }
      ]
    },
    {
      "cell_type": "code",
      "source": [
        "passing_engagement = []\n",
        "non_passing_engagement = []\n",
        "\n",
        "for engagement_record in paid_engagement_first_week:\n",
        "  if engagement_record['account_key'] in pass_subway_project:\n",
        "    passing_engagement.append(engagement_record)\n",
        "  else:\n",
        "    non_passing_engagement.append(engagement_record)\n",
        "\n",
        "print(len(passing_engagement))\n",
        "print(len(non_passing_engagement))"
      ],
      "metadata": {
        "colab": {
          "base_uri": "https://localhost:8080/"
        },
        "id": "MuKd-awaF-dU",
        "outputId": "d7096776-954a-4d71-8b99-2391a92225ea"
      },
      "execution_count": null,
      "outputs": [
        {
          "output_type": "stream",
          "name": "stdout",
          "text": [
            "4527\n",
            "2392\n"
          ]
        }
      ]
    },
    {
      "cell_type": "code",
      "source": [
        "passing_engagement_dict = group_data(passing_engagement, 'account_key')\n",
        "print(\"passing_students: \")\n",
        "lessons_completed_by_passing_students = sum_grouped_items(passing_engagement_dict, 'lessons_completed')\n",
        "results(lessons_completed_by_passing_students.values())\n",
        "\n",
        "non_passing_engagement_dict = group_data(non_passing_engagement, 'account_key')\n",
        "print(\"non_passing_students: \")\n",
        "lessons_completed_by_non_passing_students = sum_grouped_items(non_passing_engagement_dict, 'lessons_completed')\n",
        "results(lessons_completed_by_non_passing_students.values())"
      ],
      "metadata": {
        "colab": {
          "base_uri": "https://localhost:8080/",
          "height": 439
        },
        "id": "4p4J13qcXxBM",
        "outputId": "d23894b0-c6e9-4bb9-c0f5-f8d4ff7cb66d"
      },
      "execution_count": null,
      "outputs": [
        {
          "output_type": "stream",
          "name": "stdout",
          "text": [
            "passing_students: \n",
            "Média: 2.052550231839258\n",
            "Desvio Padrão: 3.1422270555779344\n",
            "Máximo: 36\n",
            "Mínimo: 0\n",
            "non_passing_students: \n",
            "Média: 0.8620689655172413\n",
            "Desvio Padrão: 2.5491599418312028\n",
            "Máximo: 27\n",
            "Mínimo: 0\n"
          ]
        },
        {
          "output_type": "display_data",
          "data": {
            "text/plain": [
              "<Figure size 432x288 with 1 Axes>"
            ],
            "image/png": "[encoded data removed]"
          },
          "metadata": {
            "needs_background": "light"
          }
        }
      ]
    },
    {
      "cell_type": "code",
      "source": [
        "print(\"passing_students: \")\n",
        "total_minutes_passing_students = sum_grouped_items(passing_engagement_dict, 'total_minutes_visited')\n",
        "results(total_minutes_passing_students.values())\n",
        "print(\"non_passing_students: \")\n",
        "total_minutes_non_passing_students = sum_grouped_items(non_passing_engagement_dict, 'total_minutes_visited')\n",
        "results(total_minutes_non_passing_students.values())"
      ],
      "metadata": {
        "colab": {
          "base_uri": "https://localhost:8080/",
          "height": 439
        },
        "id": "-Ry0h42xYwpX",
        "outputId": "9b280b6c-3b5a-41a4-8cec-a2e992a27476"
      },
      "execution_count": null,
      "outputs": [
        {
          "output_type": "stream",
          "name": "stdout",
          "text": [
            "passing_students: \n",
            "Média: 394.58604648350865\n",
            "Desvio Padrão: 448.4995193265521\n",
            "Máximo: 3564.7332644989997\n",
            "Mínimo: 0.0\n",
            "non_passing_students: \n",
            "Média: 143.32647426675584\n",
            "Desvio Padrão: 269.5386190114951\n",
            "Máximo: 1768.5227493319999\n",
            "Mínimo: 0.0\n"
          ]
        },
        {
          "output_type": "display_data",
          "data": {
            "text/plain": [
              "<Figure size 432x288 with 1 Axes>"
            ],
            "image/png": "[encoded data removed]"
          },
          "metadata": {
            "needs_background": "light"
          }
        }
      ]
    },
    {
      "cell_type": "code",
      "source": [
        "print(\"passing_students: \")\n",
        "days_visited_passing_students = sum_grouped_items(passing_engagement_dict, 'has_visited')\n",
        "results(days_visited_passing_students.values())\n",
        "print(\"non_passing_students: \")\n",
        "days_visited_non_passing_students = sum_grouped_items(non_passing_engagement_dict, 'has_visited')\n",
        "results(days_visited_non_passing_students.values())"
      ],
      "metadata": {
        "colab": {
          "base_uri": "https://localhost:8080/",
          "height": 439
        },
        "id": "iyDp3dsQZObN",
        "outputId": "5e73b38c-3c89-4d23-b8e5-abace6524e2d"
      },
      "execution_count": null,
      "outputs": [
        {
          "output_type": "stream",
          "name": "stdout",
          "text": [
            "passing_students: \n",
            "Média: 3.384853168469861\n",
            "Desvio Padrão: 2.2588214709184595\n",
            "Máximo: 7\n",
            "Mínimo: 0\n",
            "non_passing_students: \n",
            "Média: 1.9051724137931034\n",
            "Desvio Padrão: 1.9057314413619046\n",
            "Máximo: 7\n",
            "Mínimo: 0\n"
          ]
        },
        {
          "output_type": "display_data",
          "data": {
            "text/plain": [
              "<Figure size 432x288 with 1 Axes>"
            ],
            "image/png": "[encoded data removed]"
          },
          "metadata": {
            "needs_background": "light"
          }
        }
      ]
    },
    {
      "cell_type": "markdown",
      "source": [
        "#Criando histogramas para ter uma visualização melhor dos dados"
      ],
      "metadata": {
        "id": "2ZCmFWe-bmQN"
      }
    },
    {
      "cell_type": "code",
      "source": [
        "import matplotlib.pyplot as plt\n",
        "import seaborn as sns\n",
        "lessons_completed_passing_students_list = list(lessons_completed_by_passing_students.values())\n",
        "plt.hist(lessons_completed_passing_students_list)\n",
        "plt.xlabel('Lessons completed')"
      ],
      "metadata": {
        "colab": {
          "base_uri": "https://localhost:8080/",
          "height": 297
        },
        "id": "dR6fn2m1brRk",
        "outputId": "99b0ed73-3091-4ef0-c746-e669c455b9d2"
      },
      "execution_count": null,
      "outputs": [
        {
          "output_type": "execute_result",
          "data": {
            "text/plain": [
              "Text(0.5, 0, 'Lessons completed')"
            ]
          },
          "metadata": {},
          "execution_count": 162
        },
        {
          "output_type": "display_data",
          "data": {
            "text/plain": [
              "<Figure size 432x288 with 1 Axes>"
            ],
            "image/png": "[encoded data removed]"
          },
          "metadata": {
            "needs_background": "light"
          }
        }
      ]
    },
    {
      "cell_type": "code",
      "source": [
        "lessons_completed_non_passing_students_list = list(lessons_completed_by_non_passing_students.values())\n",
        "plt.hist(lessons_completed_non_passing_students_list)\n",
        "plt.xlabel('Lessons completed')"
      ],
      "metadata": {
        "colab": {
          "base_uri": "https://localhost:8080/",
          "height": 297
        },
        "id": "fwXRMdwCb0oq",
        "outputId": "3db280e0-08b6-4be0-8d33-b0bbc1496e28"
      },
      "execution_count": null,
      "outputs": [
        {
          "output_type": "execute_result",
          "data": {
            "text/plain": [
              "Text(0.5, 0, 'Lessons completed')"
            ]
          },
          "metadata": {},
          "execution_count": 152
        },
        {
          "output_type": "display_data",
          "data": {
            "text/plain": [
              "<Figure size 432x288 with 1 Axes>"
            ],
            "image/png": "[encoded data removed]"
          },
          "metadata": {
            "needs_background": "light"
          }
        }
      ]
    },
    {
      "cell_type": "code",
      "source": [
        "total_minutes_passing_students_list = list(total_minutes_passing_students.values())\n",
        "plt.hist(total_minutes_passing_students_list)\n",
        "plt.xlabel('Total minutes spent')"
      ],
      "metadata": {
        "colab": {
          "base_uri": "https://localhost:8080/",
          "height": 297
        },
        "id": "0rnE6_D0crsJ",
        "outputId": "26bb4e4f-2cef-42b9-a930-84205ff39e49"
      },
      "execution_count": null,
      "outputs": [
        {
          "output_type": "execute_result",
          "data": {
            "text/plain": [
              "Text(0.5, 0, 'Total minutes spent')"
            ]
          },
          "metadata": {},
          "execution_count": 153
        },
        {
          "output_type": "display_data",
          "data": {
            "text/plain": [
              "<Figure size 432x288 with 1 Axes>"
            ],
            "image/png": "[encoded data removed]"
          },
          "metadata": {
            "needs_background": "light"
          }
        }
      ]
    },
    {
      "cell_type": "code",
      "source": [
        "total_minutes_non_passing_students_list = list(total_minutes_non_passing_students.values())\n",
        "plt.hist(total_minutes_non_passing_students_list)\n",
        "plt.xlabel('Total minutes spent')"
      ],
      "metadata": {
        "colab": {
          "base_uri": "https://localhost:8080/",
          "height": 297
        },
        "id": "PjFsSR7YetqW",
        "outputId": "4e3e55cc-da3c-4ad2-8642-7ebe2f606997"
      },
      "execution_count": null,
      "outputs": [
        {
          "output_type": "execute_result",
          "data": {
            "text/plain": [
              "Text(0.5, 0, 'Total minutes spent')"
            ]
          },
          "metadata": {},
          "execution_count": 154
        },
        {
          "output_type": "display_data",
          "data": {
            "text/plain": [
              "<Figure size 432x288 with 1 Axes>"
            ],
            "image/png": "[encoded data removed]"
          },
          "metadata": {
            "needs_background": "light"
          }
        }
      ]
    },
    {
      "cell_type": "code",
      "source": [
        "days_visited_passing_students_list = list(days_visited_passing_students.values())\n",
        "plt.hist(days_visited_passing_students_list, bins=8)\n",
        "plt.xlabel('Days visited')"
      ],
      "metadata": {
        "colab": {
          "base_uri": "https://localhost:8080/",
          "height": 297
        },
        "id": "ecIOq2hmexV-",
        "outputId": "9bff6d9c-d9d1-444e-f9ca-00ff6eba0953"
      },
      "execution_count": null,
      "outputs": [
        {
          "output_type": "execute_result",
          "data": {
            "text/plain": [
              "Text(0.5, 0, 'Days visited')"
            ]
          },
          "metadata": {},
          "execution_count": 156
        },
        {
          "output_type": "display_data",
          "data": {
            "text/plain": [
              "<Figure size 432x288 with 1 Axes>"
            ],
            "image/png": "[encoded data removed]"
          },
          "metadata": {
            "needs_background": "light"
          }
        }
      ]
    },
    {
      "cell_type": "code",
      "source": [
        "days_visited_non_passing_students_list = list(days_visited_non_passing_students.values())\n",
        "plt.hist(days_visited_non_passing_students_list, bins=8)\n",
        "plt.xlabel('Days visited')"
      ],
      "metadata": {
        "colab": {
          "base_uri": "https://localhost:8080/",
          "height": 297
        },
        "id": "SRmi7F92fEFM",
        "outputId": "2fa541be-fa19-4920-c94e-c597884da091"
      },
      "execution_count": null,
      "outputs": [
        {
          "output_type": "execute_result",
          "data": {
            "text/plain": [
              "Text(0.5, 0, 'Days visited')"
            ]
          },
          "metadata": {},
          "execution_count": 161
        },
        {
          "output_type": "display_data",
          "data": {
            "text/plain": [
              "<Figure size 432x288 with 1 Axes>"
            ],
            "image/png": "[encoded data removed]"
          },
          "metadata": {
            "needs_background": "light"
          }
        }
      ]
    },
    {
      "cell_type": "markdown",
      "source": [
        "#Possíveis conclusões"
      ],
      "metadata": {
        "id": "Xa42kTf5iN8x"
      }
    },
    {
      "cell_type": "markdown",
      "source": [
        "Agora que chegamos ao final da análise podemos ter algumas **possíveis** conclusões"
      ],
      "metadata": {
        "id": "33WKy8LtiaTW"
      }
    },
    {
      "cell_type": "markdown",
      "source": [
        "Primeiramente uma possível conclusão: Os alunos que passaram no projeto gastaram mais tempo na sala de aula durante a primeira semana. <br>\n",
        "**OBS: Isso é uma possível conclusão porém não podemos ter certeza disso e para confirmar seria necessário utilizar estatística.**"
      ],
      "metadata": {
        "id": "0GTNA7oaibkE"
      }
    },
    {
      "cell_type": "markdown",
      "source": [
        "Outra possível conclusão é que os alunos que passaram no primeiro projeto tem mais chances de visitar a sala de aula mais vezes na primeira semana, mas isso não significa que visitar a sala de aula várias vezes na primeira semana implica que o aluno vai passar no primeiro projeto."
      ],
      "metadata": {
        "id": "WYqTnBOji6gW"
      }
    },
    {
      "cell_type": "markdown",
      "source": [
        "Podemos então listar alguns fatos que podem causar com que o aluno visite a sala de aula e passe no projeto:\n",
        "- Nível de interesse: Os alunos que não acharam os cursos interessantes não visitaram a sala de aula muitas vezes e consequentemente não tiveram interesse em finalizar o projeto.\n",
        "- Requisitos necessários: Os alunos que não tenham o conhecimento necessário em programação para realizar o curso podem ter se sentido desmotivados pois não conseguiriam cumprir os desafios. Uma forma de resolver isso é criar um curso básico de programação.\n",
        "\n",
        "Outro caso **possível** é o que foi dito acima, pode ser que visitar a sala de aula mais vezes na primeira semana implica que o aluno vai passar no projeto."
      ],
      "metadata": {
        "id": "_31iMuLtk9Qx"
      }
    }
  ],
  "metadata": {
    "colab": {
      "name": "Data Analysis - Nanodegree udacity students.ipynb",
      "provenance": []
    },
    "kernelspec": {
      "display_name": "Python 3",
      "name": "python3"
    },
    "language_info": {
      "name": "python"
    }
  },
  "nbformat": 4,
  "nbformat_minor": 0
}